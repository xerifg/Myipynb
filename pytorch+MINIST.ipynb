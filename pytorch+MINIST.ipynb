{
  "nbformat": 4,
  "nbformat_minor": 0,
  "metadata": {
    "colab": {
      "name": "pytorch+MINIST.ipynb",
      "provenance": [],
      "collapsed_sections": [],
      "authorship_tag": "ABX9TyOrnvPPlMzdh6tXaKPe4rgB",
      "include_colab_link": true
    },
    "kernelspec": {
      "name": "python3",
      "display_name": "Python 3"
    },
    "language_info": {
      "name": "python"
    },
    "widgets": {
      "application/vnd.jupyter.widget-state+json": {
        "3a097e1ae93b40ab889c431f4ab467fc": {
          "model_module": "@jupyter-widgets/controls",
          "model_name": "HBoxModel",
          "model_module_version": "1.5.0",
          "state": {
            "_view_name": "HBoxView",
            "_dom_classes": [],
            "_model_name": "HBoxModel",
            "_view_module": "@jupyter-widgets/controls",
            "_model_module_version": "1.5.0",
            "_view_count": null,
            "_view_module_version": "1.5.0",
            "box_style": "",
            "layout": "IPY_MODEL_42b19cb2a1b24063b0a1165c2d6d4de9",
            "_model_module": "@jupyter-widgets/controls",
            "children": [
              "IPY_MODEL_73edc360ed4f4fb78e5dd46c520f166c",
              "IPY_MODEL_ffdbeccb1334485a8fbdad383675e09b",
              "IPY_MODEL_842d953d4a8d44ba8481bbbf73bf1631"
            ]
          }
        },
        "42b19cb2a1b24063b0a1165c2d6d4de9": {
          "model_module": "@jupyter-widgets/base",
          "model_name": "LayoutModel",
          "model_module_version": "1.2.0",
          "state": {
            "_view_name": "LayoutView",
            "grid_template_rows": null,
            "right": null,
            "justify_content": null,
            "_view_module": "@jupyter-widgets/base",
            "overflow": null,
            "_model_module_version": "1.2.0",
            "_view_count": null,
            "flex_flow": null,
            "width": null,
            "min_width": null,
            "border": null,
            "align_items": null,
            "bottom": null,
            "_model_module": "@jupyter-widgets/base",
            "top": null,
            "grid_column": null,
            "overflow_y": null,
            "overflow_x": null,
            "grid_auto_flow": null,
            "grid_area": null,
            "grid_template_columns": null,
            "flex": null,
            "_model_name": "LayoutModel",
            "justify_items": null,
            "grid_row": null,
            "max_height": null,
            "align_content": null,
            "visibility": null,
            "align_self": null,
            "height": null,
            "min_height": null,
            "padding": null,
            "grid_auto_rows": null,
            "grid_gap": null,
            "max_width": null,
            "order": null,
            "_view_module_version": "1.2.0",
            "grid_template_areas": null,
            "object_position": null,
            "object_fit": null,
            "grid_auto_columns": null,
            "margin": null,
            "display": null,
            "left": null
          }
        },
        "73edc360ed4f4fb78e5dd46c520f166c": {
          "model_module": "@jupyter-widgets/controls",
          "model_name": "HTMLModel",
          "model_module_version": "1.5.0",
          "state": {
            "_view_name": "HTMLView",
            "style": "IPY_MODEL_2a426a69c49d4ed6a1c194f120e88370",
            "_dom_classes": [],
            "description": "",
            "_model_name": "HTMLModel",
            "placeholder": "​",
            "_view_module": "@jupyter-widgets/controls",
            "_model_module_version": "1.5.0",
            "value": "",
            "_view_count": null,
            "_view_module_version": "1.5.0",
            "description_tooltip": null,
            "_model_module": "@jupyter-widgets/controls",
            "layout": "IPY_MODEL_106b4a6a832b431cbc7dd92e90452dbb"
          }
        },
        "ffdbeccb1334485a8fbdad383675e09b": {
          "model_module": "@jupyter-widgets/controls",
          "model_name": "FloatProgressModel",
          "model_module_version": "1.5.0",
          "state": {
            "_view_name": "ProgressView",
            "style": "IPY_MODEL_3cdbb19319554c169d64b872a8dfd145",
            "_dom_classes": [],
            "description": "",
            "_model_name": "FloatProgressModel",
            "bar_style": "success",
            "max": 9912422,
            "_view_module": "@jupyter-widgets/controls",
            "_model_module_version": "1.5.0",
            "value": 9912422,
            "_view_count": null,
            "_view_module_version": "1.5.0",
            "orientation": "horizontal",
            "min": 0,
            "description_tooltip": null,
            "_model_module": "@jupyter-widgets/controls",
            "layout": "IPY_MODEL_b3d9316fac8c41668f85447d9ac09802"
          }
        },
        "842d953d4a8d44ba8481bbbf73bf1631": {
          "model_module": "@jupyter-widgets/controls",
          "model_name": "HTMLModel",
          "model_module_version": "1.5.0",
          "state": {
            "_view_name": "HTMLView",
            "style": "IPY_MODEL_635bb86975f54f499f7cfb913cc489e8",
            "_dom_classes": [],
            "description": "",
            "_model_name": "HTMLModel",
            "placeholder": "​",
            "_view_module": "@jupyter-widgets/controls",
            "_model_module_version": "1.5.0",
            "value": " 9913344/? [00:00&lt;00:00, 37067598.09it/s]",
            "_view_count": null,
            "_view_module_version": "1.5.0",
            "description_tooltip": null,
            "_model_module": "@jupyter-widgets/controls",
            "layout": "IPY_MODEL_962c27cd92d04dbb9dfeaeb66d2bd125"
          }
        },
        "2a426a69c49d4ed6a1c194f120e88370": {
          "model_module": "@jupyter-widgets/controls",
          "model_name": "DescriptionStyleModel",
          "model_module_version": "1.5.0",
          "state": {
            "_view_name": "StyleView",
            "_model_name": "DescriptionStyleModel",
            "description_width": "",
            "_view_module": "@jupyter-widgets/base",
            "_model_module_version": "1.5.0",
            "_view_count": null,
            "_view_module_version": "1.2.0",
            "_model_module": "@jupyter-widgets/controls"
          }
        },
        "106b4a6a832b431cbc7dd92e90452dbb": {
          "model_module": "@jupyter-widgets/base",
          "model_name": "LayoutModel",
          "model_module_version": "1.2.0",
          "state": {
            "_view_name": "LayoutView",
            "grid_template_rows": null,
            "right": null,
            "justify_content": null,
            "_view_module": "@jupyter-widgets/base",
            "overflow": null,
            "_model_module_version": "1.2.0",
            "_view_count": null,
            "flex_flow": null,
            "width": null,
            "min_width": null,
            "border": null,
            "align_items": null,
            "bottom": null,
            "_model_module": "@jupyter-widgets/base",
            "top": null,
            "grid_column": null,
            "overflow_y": null,
            "overflow_x": null,
            "grid_auto_flow": null,
            "grid_area": null,
            "grid_template_columns": null,
            "flex": null,
            "_model_name": "LayoutModel",
            "justify_items": null,
            "grid_row": null,
            "max_height": null,
            "align_content": null,
            "visibility": null,
            "align_self": null,
            "height": null,
            "min_height": null,
            "padding": null,
            "grid_auto_rows": null,
            "grid_gap": null,
            "max_width": null,
            "order": null,
            "_view_module_version": "1.2.0",
            "grid_template_areas": null,
            "object_position": null,
            "object_fit": null,
            "grid_auto_columns": null,
            "margin": null,
            "display": null,
            "left": null
          }
        },
        "3cdbb19319554c169d64b872a8dfd145": {
          "model_module": "@jupyter-widgets/controls",
          "model_name": "ProgressStyleModel",
          "model_module_version": "1.5.0",
          "state": {
            "_view_name": "StyleView",
            "_model_name": "ProgressStyleModel",
            "description_width": "",
            "_view_module": "@jupyter-widgets/base",
            "_model_module_version": "1.5.0",
            "_view_count": null,
            "_view_module_version": "1.2.0",
            "bar_color": null,
            "_model_module": "@jupyter-widgets/controls"
          }
        },
        "b3d9316fac8c41668f85447d9ac09802": {
          "model_module": "@jupyter-widgets/base",
          "model_name": "LayoutModel",
          "model_module_version": "1.2.0",
          "state": {
            "_view_name": "LayoutView",
            "grid_template_rows": null,
            "right": null,
            "justify_content": null,
            "_view_module": "@jupyter-widgets/base",
            "overflow": null,
            "_model_module_version": "1.2.0",
            "_view_count": null,
            "flex_flow": null,
            "width": null,
            "min_width": null,
            "border": null,
            "align_items": null,
            "bottom": null,
            "_model_module": "@jupyter-widgets/base",
            "top": null,
            "grid_column": null,
            "overflow_y": null,
            "overflow_x": null,
            "grid_auto_flow": null,
            "grid_area": null,
            "grid_template_columns": null,
            "flex": null,
            "_model_name": "LayoutModel",
            "justify_items": null,
            "grid_row": null,
            "max_height": null,
            "align_content": null,
            "visibility": null,
            "align_self": null,
            "height": null,
            "min_height": null,
            "padding": null,
            "grid_auto_rows": null,
            "grid_gap": null,
            "max_width": null,
            "order": null,
            "_view_module_version": "1.2.0",
            "grid_template_areas": null,
            "object_position": null,
            "object_fit": null,
            "grid_auto_columns": null,
            "margin": null,
            "display": null,
            "left": null
          }
        },
        "635bb86975f54f499f7cfb913cc489e8": {
          "model_module": "@jupyter-widgets/controls",
          "model_name": "DescriptionStyleModel",
          "model_module_version": "1.5.0",
          "state": {
            "_view_name": "StyleView",
            "_model_name": "DescriptionStyleModel",
            "description_width": "",
            "_view_module": "@jupyter-widgets/base",
            "_model_module_version": "1.5.0",
            "_view_count": null,
            "_view_module_version": "1.2.0",
            "_model_module": "@jupyter-widgets/controls"
          }
        },
        "962c27cd92d04dbb9dfeaeb66d2bd125": {
          "model_module": "@jupyter-widgets/base",
          "model_name": "LayoutModel",
          "model_module_version": "1.2.0",
          "state": {
            "_view_name": "LayoutView",
            "grid_template_rows": null,
            "right": null,
            "justify_content": null,
            "_view_module": "@jupyter-widgets/base",
            "overflow": null,
            "_model_module_version": "1.2.0",
            "_view_count": null,
            "flex_flow": null,
            "width": null,
            "min_width": null,
            "border": null,
            "align_items": null,
            "bottom": null,
            "_model_module": "@jupyter-widgets/base",
            "top": null,
            "grid_column": null,
            "overflow_y": null,
            "overflow_x": null,
            "grid_auto_flow": null,
            "grid_area": null,
            "grid_template_columns": null,
            "flex": null,
            "_model_name": "LayoutModel",
            "justify_items": null,
            "grid_row": null,
            "max_height": null,
            "align_content": null,
            "visibility": null,
            "align_self": null,
            "height": null,
            "min_height": null,
            "padding": null,
            "grid_auto_rows": null,
            "grid_gap": null,
            "max_width": null,
            "order": null,
            "_view_module_version": "1.2.0",
            "grid_template_areas": null,
            "object_position": null,
            "object_fit": null,
            "grid_auto_columns": null,
            "margin": null,
            "display": null,
            "left": null
          }
        },
        "9afaf81b11fb4fc08187d1ea5eb75089": {
          "model_module": "@jupyter-widgets/controls",
          "model_name": "HBoxModel",
          "model_module_version": "1.5.0",
          "state": {
            "_view_name": "HBoxView",
            "_dom_classes": [],
            "_model_name": "HBoxModel",
            "_view_module": "@jupyter-widgets/controls",
            "_model_module_version": "1.5.0",
            "_view_count": null,
            "_view_module_version": "1.5.0",
            "box_style": "",
            "layout": "IPY_MODEL_cab275a04163408ab5681a1d4e0b0777",
            "_model_module": "@jupyter-widgets/controls",
            "children": [
              "IPY_MODEL_b33bb89b0f5e44d7a769ceaa19f0c765",
              "IPY_MODEL_77c0012a02344ce1ae0f92f3a1dc7f69",
              "IPY_MODEL_447ea247d9b842749b85928b63c4715e"
            ]
          }
        },
        "cab275a04163408ab5681a1d4e0b0777": {
          "model_module": "@jupyter-widgets/base",
          "model_name": "LayoutModel",
          "model_module_version": "1.2.0",
          "state": {
            "_view_name": "LayoutView",
            "grid_template_rows": null,
            "right": null,
            "justify_content": null,
            "_view_module": "@jupyter-widgets/base",
            "overflow": null,
            "_model_module_version": "1.2.0",
            "_view_count": null,
            "flex_flow": null,
            "width": null,
            "min_width": null,
            "border": null,
            "align_items": null,
            "bottom": null,
            "_model_module": "@jupyter-widgets/base",
            "top": null,
            "grid_column": null,
            "overflow_y": null,
            "overflow_x": null,
            "grid_auto_flow": null,
            "grid_area": null,
            "grid_template_columns": null,
            "flex": null,
            "_model_name": "LayoutModel",
            "justify_items": null,
            "grid_row": null,
            "max_height": null,
            "align_content": null,
            "visibility": null,
            "align_self": null,
            "height": null,
            "min_height": null,
            "padding": null,
            "grid_auto_rows": null,
            "grid_gap": null,
            "max_width": null,
            "order": null,
            "_view_module_version": "1.2.0",
            "grid_template_areas": null,
            "object_position": null,
            "object_fit": null,
            "grid_auto_columns": null,
            "margin": null,
            "display": null,
            "left": null
          }
        },
        "b33bb89b0f5e44d7a769ceaa19f0c765": {
          "model_module": "@jupyter-widgets/controls",
          "model_name": "HTMLModel",
          "model_module_version": "1.5.0",
          "state": {
            "_view_name": "HTMLView",
            "style": "IPY_MODEL_8b311da7b52a46e4b2569becebd68428",
            "_dom_classes": [],
            "description": "",
            "_model_name": "HTMLModel",
            "placeholder": "​",
            "_view_module": "@jupyter-widgets/controls",
            "_model_module_version": "1.5.0",
            "value": "",
            "_view_count": null,
            "_view_module_version": "1.5.0",
            "description_tooltip": null,
            "_model_module": "@jupyter-widgets/controls",
            "layout": "IPY_MODEL_0146ca8c1d8b4ca7bc3ebbf4f0b96cda"
          }
        },
        "77c0012a02344ce1ae0f92f3a1dc7f69": {
          "model_module": "@jupyter-widgets/controls",
          "model_name": "FloatProgressModel",
          "model_module_version": "1.5.0",
          "state": {
            "_view_name": "ProgressView",
            "style": "IPY_MODEL_18f51502682b4e1f95e52061ef6baeb5",
            "_dom_classes": [],
            "description": "",
            "_model_name": "FloatProgressModel",
            "bar_style": "success",
            "max": 28881,
            "_view_module": "@jupyter-widgets/controls",
            "_model_module_version": "1.5.0",
            "value": 28881,
            "_view_count": null,
            "_view_module_version": "1.5.0",
            "orientation": "horizontal",
            "min": 0,
            "description_tooltip": null,
            "_model_module": "@jupyter-widgets/controls",
            "layout": "IPY_MODEL_e12a611699d54232b16f3e6afd94b176"
          }
        },
        "447ea247d9b842749b85928b63c4715e": {
          "model_module": "@jupyter-widgets/controls",
          "model_name": "HTMLModel",
          "model_module_version": "1.5.0",
          "state": {
            "_view_name": "HTMLView",
            "style": "IPY_MODEL_13ddea9d8af143a19ff20f2e6e2cf65f",
            "_dom_classes": [],
            "description": "",
            "_model_name": "HTMLModel",
            "placeholder": "​",
            "_view_module": "@jupyter-widgets/controls",
            "_model_module_version": "1.5.0",
            "value": " 29696/? [00:00&lt;00:00, 741379.93it/s]",
            "_view_count": null,
            "_view_module_version": "1.5.0",
            "description_tooltip": null,
            "_model_module": "@jupyter-widgets/controls",
            "layout": "IPY_MODEL_a79a42f48b7c4fc295c299e1d5e77e81"
          }
        },
        "8b311da7b52a46e4b2569becebd68428": {
          "model_module": "@jupyter-widgets/controls",
          "model_name": "DescriptionStyleModel",
          "model_module_version": "1.5.0",
          "state": {
            "_view_name": "StyleView",
            "_model_name": "DescriptionStyleModel",
            "description_width": "",
            "_view_module": "@jupyter-widgets/base",
            "_model_module_version": "1.5.0",
            "_view_count": null,
            "_view_module_version": "1.2.0",
            "_model_module": "@jupyter-widgets/controls"
          }
        },
        "0146ca8c1d8b4ca7bc3ebbf4f0b96cda": {
          "model_module": "@jupyter-widgets/base",
          "model_name": "LayoutModel",
          "model_module_version": "1.2.0",
          "state": {
            "_view_name": "LayoutView",
            "grid_template_rows": null,
            "right": null,
            "justify_content": null,
            "_view_module": "@jupyter-widgets/base",
            "overflow": null,
            "_model_module_version": "1.2.0",
            "_view_count": null,
            "flex_flow": null,
            "width": null,
            "min_width": null,
            "border": null,
            "align_items": null,
            "bottom": null,
            "_model_module": "@jupyter-widgets/base",
            "top": null,
            "grid_column": null,
            "overflow_y": null,
            "overflow_x": null,
            "grid_auto_flow": null,
            "grid_area": null,
            "grid_template_columns": null,
            "flex": null,
            "_model_name": "LayoutModel",
            "justify_items": null,
            "grid_row": null,
            "max_height": null,
            "align_content": null,
            "visibility": null,
            "align_self": null,
            "height": null,
            "min_height": null,
            "padding": null,
            "grid_auto_rows": null,
            "grid_gap": null,
            "max_width": null,
            "order": null,
            "_view_module_version": "1.2.0",
            "grid_template_areas": null,
            "object_position": null,
            "object_fit": null,
            "grid_auto_columns": null,
            "margin": null,
            "display": null,
            "left": null
          }
        },
        "18f51502682b4e1f95e52061ef6baeb5": {
          "model_module": "@jupyter-widgets/controls",
          "model_name": "ProgressStyleModel",
          "model_module_version": "1.5.0",
          "state": {
            "_view_name": "StyleView",
            "_model_name": "ProgressStyleModel",
            "description_width": "",
            "_view_module": "@jupyter-widgets/base",
            "_model_module_version": "1.5.0",
            "_view_count": null,
            "_view_module_version": "1.2.0",
            "bar_color": null,
            "_model_module": "@jupyter-widgets/controls"
          }
        },
        "e12a611699d54232b16f3e6afd94b176": {
          "model_module": "@jupyter-widgets/base",
          "model_name": "LayoutModel",
          "model_module_version": "1.2.0",
          "state": {
            "_view_name": "LayoutView",
            "grid_template_rows": null,
            "right": null,
            "justify_content": null,
            "_view_module": "@jupyter-widgets/base",
            "overflow": null,
            "_model_module_version": "1.2.0",
            "_view_count": null,
            "flex_flow": null,
            "width": null,
            "min_width": null,
            "border": null,
            "align_items": null,
            "bottom": null,
            "_model_module": "@jupyter-widgets/base",
            "top": null,
            "grid_column": null,
            "overflow_y": null,
            "overflow_x": null,
            "grid_auto_flow": null,
            "grid_area": null,
            "grid_template_columns": null,
            "flex": null,
            "_model_name": "LayoutModel",
            "justify_items": null,
            "grid_row": null,
            "max_height": null,
            "align_content": null,
            "visibility": null,
            "align_self": null,
            "height": null,
            "min_height": null,
            "padding": null,
            "grid_auto_rows": null,
            "grid_gap": null,
            "max_width": null,
            "order": null,
            "_view_module_version": "1.2.0",
            "grid_template_areas": null,
            "object_position": null,
            "object_fit": null,
            "grid_auto_columns": null,
            "margin": null,
            "display": null,
            "left": null
          }
        },
        "13ddea9d8af143a19ff20f2e6e2cf65f": {
          "model_module": "@jupyter-widgets/controls",
          "model_name": "DescriptionStyleModel",
          "model_module_version": "1.5.0",
          "state": {
            "_view_name": "StyleView",
            "_model_name": "DescriptionStyleModel",
            "description_width": "",
            "_view_module": "@jupyter-widgets/base",
            "_model_module_version": "1.5.0",
            "_view_count": null,
            "_view_module_version": "1.2.0",
            "_model_module": "@jupyter-widgets/controls"
          }
        },
        "a79a42f48b7c4fc295c299e1d5e77e81": {
          "model_module": "@jupyter-widgets/base",
          "model_name": "LayoutModel",
          "model_module_version": "1.2.0",
          "state": {
            "_view_name": "LayoutView",
            "grid_template_rows": null,
            "right": null,
            "justify_content": null,
            "_view_module": "@jupyter-widgets/base",
            "overflow": null,
            "_model_module_version": "1.2.0",
            "_view_count": null,
            "flex_flow": null,
            "width": null,
            "min_width": null,
            "border": null,
            "align_items": null,
            "bottom": null,
            "_model_module": "@jupyter-widgets/base",
            "top": null,
            "grid_column": null,
            "overflow_y": null,
            "overflow_x": null,
            "grid_auto_flow": null,
            "grid_area": null,
            "grid_template_columns": null,
            "flex": null,
            "_model_name": "LayoutModel",
            "justify_items": null,
            "grid_row": null,
            "max_height": null,
            "align_content": null,
            "visibility": null,
            "align_self": null,
            "height": null,
            "min_height": null,
            "padding": null,
            "grid_auto_rows": null,
            "grid_gap": null,
            "max_width": null,
            "order": null,
            "_view_module_version": "1.2.0",
            "grid_template_areas": null,
            "object_position": null,
            "object_fit": null,
            "grid_auto_columns": null,
            "margin": null,
            "display": null,
            "left": null
          }
        },
        "14c032c2d0e042b1968c0e613b337beb": {
          "model_module": "@jupyter-widgets/controls",
          "model_name": "HBoxModel",
          "model_module_version": "1.5.0",
          "state": {
            "_view_name": "HBoxView",
            "_dom_classes": [],
            "_model_name": "HBoxModel",
            "_view_module": "@jupyter-widgets/controls",
            "_model_module_version": "1.5.0",
            "_view_count": null,
            "_view_module_version": "1.5.0",
            "box_style": "",
            "layout": "IPY_MODEL_7af7981c195a44988101317e3a576d4c",
            "_model_module": "@jupyter-widgets/controls",
            "children": [
              "IPY_MODEL_a15c3f80789349b88eb4dd3c20d30920",
              "IPY_MODEL_8b22f53c99ce4d93b70b3d34d988c2d5",
              "IPY_MODEL_7b347cc09ff8415f8e785aed7eb9b04a"
            ]
          }
        },
        "7af7981c195a44988101317e3a576d4c": {
          "model_module": "@jupyter-widgets/base",
          "model_name": "LayoutModel",
          "model_module_version": "1.2.0",
          "state": {
            "_view_name": "LayoutView",
            "grid_template_rows": null,
            "right": null,
            "justify_content": null,
            "_view_module": "@jupyter-widgets/base",
            "overflow": null,
            "_model_module_version": "1.2.0",
            "_view_count": null,
            "flex_flow": null,
            "width": null,
            "min_width": null,
            "border": null,
            "align_items": null,
            "bottom": null,
            "_model_module": "@jupyter-widgets/base",
            "top": null,
            "grid_column": null,
            "overflow_y": null,
            "overflow_x": null,
            "grid_auto_flow": null,
            "grid_area": null,
            "grid_template_columns": null,
            "flex": null,
            "_model_name": "LayoutModel",
            "justify_items": null,
            "grid_row": null,
            "max_height": null,
            "align_content": null,
            "visibility": null,
            "align_self": null,
            "height": null,
            "min_height": null,
            "padding": null,
            "grid_auto_rows": null,
            "grid_gap": null,
            "max_width": null,
            "order": null,
            "_view_module_version": "1.2.0",
            "grid_template_areas": null,
            "object_position": null,
            "object_fit": null,
            "grid_auto_columns": null,
            "margin": null,
            "display": null,
            "left": null
          }
        },
        "a15c3f80789349b88eb4dd3c20d30920": {
          "model_module": "@jupyter-widgets/controls",
          "model_name": "HTMLModel",
          "model_module_version": "1.5.0",
          "state": {
            "_view_name": "HTMLView",
            "style": "IPY_MODEL_c68e5ce274094ce29807e0d8e091fa3a",
            "_dom_classes": [],
            "description": "",
            "_model_name": "HTMLModel",
            "placeholder": "​",
            "_view_module": "@jupyter-widgets/controls",
            "_model_module_version": "1.5.0",
            "value": "",
            "_view_count": null,
            "_view_module_version": "1.5.0",
            "description_tooltip": null,
            "_model_module": "@jupyter-widgets/controls",
            "layout": "IPY_MODEL_cb0b1d63f1664dc5a1d847b981365fc2"
          }
        },
        "8b22f53c99ce4d93b70b3d34d988c2d5": {
          "model_module": "@jupyter-widgets/controls",
          "model_name": "FloatProgressModel",
          "model_module_version": "1.5.0",
          "state": {
            "_view_name": "ProgressView",
            "style": "IPY_MODEL_514adc62a25f49008779c8289c9b1452",
            "_dom_classes": [],
            "description": "",
            "_model_name": "FloatProgressModel",
            "bar_style": "success",
            "max": 1648877,
            "_view_module": "@jupyter-widgets/controls",
            "_model_module_version": "1.5.0",
            "value": 1648877,
            "_view_count": null,
            "_view_module_version": "1.5.0",
            "orientation": "horizontal",
            "min": 0,
            "description_tooltip": null,
            "_model_module": "@jupyter-widgets/controls",
            "layout": "IPY_MODEL_0113007ff91245a8b24655e265777dcf"
          }
        },
        "7b347cc09ff8415f8e785aed7eb9b04a": {
          "model_module": "@jupyter-widgets/controls",
          "model_name": "HTMLModel",
          "model_module_version": "1.5.0",
          "state": {
            "_view_name": "HTMLView",
            "style": "IPY_MODEL_ff3f3c7dc5db43258bb91f6fd4dbed1f",
            "_dom_classes": [],
            "description": "",
            "_model_name": "HTMLModel",
            "placeholder": "​",
            "_view_module": "@jupyter-widgets/controls",
            "_model_module_version": "1.5.0",
            "value": " 1649664/? [00:00&lt;00:00, 23318456.47it/s]",
            "_view_count": null,
            "_view_module_version": "1.5.0",
            "description_tooltip": null,
            "_model_module": "@jupyter-widgets/controls",
            "layout": "IPY_MODEL_d3910a45632047e79d3a6ee36a9a03e6"
          }
        },
        "c68e5ce274094ce29807e0d8e091fa3a": {
          "model_module": "@jupyter-widgets/controls",
          "model_name": "DescriptionStyleModel",
          "model_module_version": "1.5.0",
          "state": {
            "_view_name": "StyleView",
            "_model_name": "DescriptionStyleModel",
            "description_width": "",
            "_view_module": "@jupyter-widgets/base",
            "_model_module_version": "1.5.0",
            "_view_count": null,
            "_view_module_version": "1.2.0",
            "_model_module": "@jupyter-widgets/controls"
          }
        },
        "cb0b1d63f1664dc5a1d847b981365fc2": {
          "model_module": "@jupyter-widgets/base",
          "model_name": "LayoutModel",
          "model_module_version": "1.2.0",
          "state": {
            "_view_name": "LayoutView",
            "grid_template_rows": null,
            "right": null,
            "justify_content": null,
            "_view_module": "@jupyter-widgets/base",
            "overflow": null,
            "_model_module_version": "1.2.0",
            "_view_count": null,
            "flex_flow": null,
            "width": null,
            "min_width": null,
            "border": null,
            "align_items": null,
            "bottom": null,
            "_model_module": "@jupyter-widgets/base",
            "top": null,
            "grid_column": null,
            "overflow_y": null,
            "overflow_x": null,
            "grid_auto_flow": null,
            "grid_area": null,
            "grid_template_columns": null,
            "flex": null,
            "_model_name": "LayoutModel",
            "justify_items": null,
            "grid_row": null,
            "max_height": null,
            "align_content": null,
            "visibility": null,
            "align_self": null,
            "height": null,
            "min_height": null,
            "padding": null,
            "grid_auto_rows": null,
            "grid_gap": null,
            "max_width": null,
            "order": null,
            "_view_module_version": "1.2.0",
            "grid_template_areas": null,
            "object_position": null,
            "object_fit": null,
            "grid_auto_columns": null,
            "margin": null,
            "display": null,
            "left": null
          }
        },
        "514adc62a25f49008779c8289c9b1452": {
          "model_module": "@jupyter-widgets/controls",
          "model_name": "ProgressStyleModel",
          "model_module_version": "1.5.0",
          "state": {
            "_view_name": "StyleView",
            "_model_name": "ProgressStyleModel",
            "description_width": "",
            "_view_module": "@jupyter-widgets/base",
            "_model_module_version": "1.5.0",
            "_view_count": null,
            "_view_module_version": "1.2.0",
            "bar_color": null,
            "_model_module": "@jupyter-widgets/controls"
          }
        },
        "0113007ff91245a8b24655e265777dcf": {
          "model_module": "@jupyter-widgets/base",
          "model_name": "LayoutModel",
          "model_module_version": "1.2.0",
          "state": {
            "_view_name": "LayoutView",
            "grid_template_rows": null,
            "right": null,
            "justify_content": null,
            "_view_module": "@jupyter-widgets/base",
            "overflow": null,
            "_model_module_version": "1.2.0",
            "_view_count": null,
            "flex_flow": null,
            "width": null,
            "min_width": null,
            "border": null,
            "align_items": null,
            "bottom": null,
            "_model_module": "@jupyter-widgets/base",
            "top": null,
            "grid_column": null,
            "overflow_y": null,
            "overflow_x": null,
            "grid_auto_flow": null,
            "grid_area": null,
            "grid_template_columns": null,
            "flex": null,
            "_model_name": "LayoutModel",
            "justify_items": null,
            "grid_row": null,
            "max_height": null,
            "align_content": null,
            "visibility": null,
            "align_self": null,
            "height": null,
            "min_height": null,
            "padding": null,
            "grid_auto_rows": null,
            "grid_gap": null,
            "max_width": null,
            "order": null,
            "_view_module_version": "1.2.0",
            "grid_template_areas": null,
            "object_position": null,
            "object_fit": null,
            "grid_auto_columns": null,
            "margin": null,
            "display": null,
            "left": null
          }
        },
        "ff3f3c7dc5db43258bb91f6fd4dbed1f": {
          "model_module": "@jupyter-widgets/controls",
          "model_name": "DescriptionStyleModel",
          "model_module_version": "1.5.0",
          "state": {
            "_view_name": "StyleView",
            "_model_name": "DescriptionStyleModel",
            "description_width": "",
            "_view_module": "@jupyter-widgets/base",
            "_model_module_version": "1.5.0",
            "_view_count": null,
            "_view_module_version": "1.2.0",
            "_model_module": "@jupyter-widgets/controls"
          }
        },
        "d3910a45632047e79d3a6ee36a9a03e6": {
          "model_module": "@jupyter-widgets/base",
          "model_name": "LayoutModel",
          "model_module_version": "1.2.0",
          "state": {
            "_view_name": "LayoutView",
            "grid_template_rows": null,
            "right": null,
            "justify_content": null,
            "_view_module": "@jupyter-widgets/base",
            "overflow": null,
            "_model_module_version": "1.2.0",
            "_view_count": null,
            "flex_flow": null,
            "width": null,
            "min_width": null,
            "border": null,
            "align_items": null,
            "bottom": null,
            "_model_module": "@jupyter-widgets/base",
            "top": null,
            "grid_column": null,
            "overflow_y": null,
            "overflow_x": null,
            "grid_auto_flow": null,
            "grid_area": null,
            "grid_template_columns": null,
            "flex": null,
            "_model_name": "LayoutModel",
            "justify_items": null,
            "grid_row": null,
            "max_height": null,
            "align_content": null,
            "visibility": null,
            "align_self": null,
            "height": null,
            "min_height": null,
            "padding": null,
            "grid_auto_rows": null,
            "grid_gap": null,
            "max_width": null,
            "order": null,
            "_view_module_version": "1.2.0",
            "grid_template_areas": null,
            "object_position": null,
            "object_fit": null,
            "grid_auto_columns": null,
            "margin": null,
            "display": null,
            "left": null
          }
        },
        "8af51f80926e48dc926afc8fef8ac28d": {
          "model_module": "@jupyter-widgets/controls",
          "model_name": "HBoxModel",
          "model_module_version": "1.5.0",
          "state": {
            "_view_name": "HBoxView",
            "_dom_classes": [],
            "_model_name": "HBoxModel",
            "_view_module": "@jupyter-widgets/controls",
            "_model_module_version": "1.5.0",
            "_view_count": null,
            "_view_module_version": "1.5.0",
            "box_style": "",
            "layout": "IPY_MODEL_78bf61b5c8a04342b58cddfa01070415",
            "_model_module": "@jupyter-widgets/controls",
            "children": [
              "IPY_MODEL_853e88dbb0164f0487778f615cdaa00f",
              "IPY_MODEL_672ddd58c61245cf865f162f10a64718",
              "IPY_MODEL_033c6a1b97a749a5b69a3fa2168ca6c6"
            ]
          }
        },
        "78bf61b5c8a04342b58cddfa01070415": {
          "model_module": "@jupyter-widgets/base",
          "model_name": "LayoutModel",
          "model_module_version": "1.2.0",
          "state": {
            "_view_name": "LayoutView",
            "grid_template_rows": null,
            "right": null,
            "justify_content": null,
            "_view_module": "@jupyter-widgets/base",
            "overflow": null,
            "_model_module_version": "1.2.0",
            "_view_count": null,
            "flex_flow": null,
            "width": null,
            "min_width": null,
            "border": null,
            "align_items": null,
            "bottom": null,
            "_model_module": "@jupyter-widgets/base",
            "top": null,
            "grid_column": null,
            "overflow_y": null,
            "overflow_x": null,
            "grid_auto_flow": null,
            "grid_area": null,
            "grid_template_columns": null,
            "flex": null,
            "_model_name": "LayoutModel",
            "justify_items": null,
            "grid_row": null,
            "max_height": null,
            "align_content": null,
            "visibility": null,
            "align_self": null,
            "height": null,
            "min_height": null,
            "padding": null,
            "grid_auto_rows": null,
            "grid_gap": null,
            "max_width": null,
            "order": null,
            "_view_module_version": "1.2.0",
            "grid_template_areas": null,
            "object_position": null,
            "object_fit": null,
            "grid_auto_columns": null,
            "margin": null,
            "display": null,
            "left": null
          }
        },
        "853e88dbb0164f0487778f615cdaa00f": {
          "model_module": "@jupyter-widgets/controls",
          "model_name": "HTMLModel",
          "model_module_version": "1.5.0",
          "state": {
            "_view_name": "HTMLView",
            "style": "IPY_MODEL_63468a2d6d0b4b88b96423eeb9ce18c3",
            "_dom_classes": [],
            "description": "",
            "_model_name": "HTMLModel",
            "placeholder": "​",
            "_view_module": "@jupyter-widgets/controls",
            "_model_module_version": "1.5.0",
            "value": "",
            "_view_count": null,
            "_view_module_version": "1.5.0",
            "description_tooltip": null,
            "_model_module": "@jupyter-widgets/controls",
            "layout": "IPY_MODEL_2a86704a32ae4d7d8d8a8f871ab550fa"
          }
        },
        "672ddd58c61245cf865f162f10a64718": {
          "model_module": "@jupyter-widgets/controls",
          "model_name": "FloatProgressModel",
          "model_module_version": "1.5.0",
          "state": {
            "_view_name": "ProgressView",
            "style": "IPY_MODEL_6f96e937447e42878a221acbab33cdc0",
            "_dom_classes": [],
            "description": "",
            "_model_name": "FloatProgressModel",
            "bar_style": "success",
            "max": 4542,
            "_view_module": "@jupyter-widgets/controls",
            "_model_module_version": "1.5.0",
            "value": 4542,
            "_view_count": null,
            "_view_module_version": "1.5.0",
            "orientation": "horizontal",
            "min": 0,
            "description_tooltip": null,
            "_model_module": "@jupyter-widgets/controls",
            "layout": "IPY_MODEL_0703094a686a4d9bb90fd48c56a6daff"
          }
        },
        "033c6a1b97a749a5b69a3fa2168ca6c6": {
          "model_module": "@jupyter-widgets/controls",
          "model_name": "HTMLModel",
          "model_module_version": "1.5.0",
          "state": {
            "_view_name": "HTMLView",
            "style": "IPY_MODEL_88b546266c7c462bab97785ae22f001a",
            "_dom_classes": [],
            "description": "",
            "_model_name": "HTMLModel",
            "placeholder": "​",
            "_view_module": "@jupyter-widgets/controls",
            "_model_module_version": "1.5.0",
            "value": " 5120/? [00:00&lt;00:00, 136887.90it/s]",
            "_view_count": null,
            "_view_module_version": "1.5.0",
            "description_tooltip": null,
            "_model_module": "@jupyter-widgets/controls",
            "layout": "IPY_MODEL_51101bb5012b4aa193fc4ab5774c5455"
          }
        },
        "63468a2d6d0b4b88b96423eeb9ce18c3": {
          "model_module": "@jupyter-widgets/controls",
          "model_name": "DescriptionStyleModel",
          "model_module_version": "1.5.0",
          "state": {
            "_view_name": "StyleView",
            "_model_name": "DescriptionStyleModel",
            "description_width": "",
            "_view_module": "@jupyter-widgets/base",
            "_model_module_version": "1.5.0",
            "_view_count": null,
            "_view_module_version": "1.2.0",
            "_model_module": "@jupyter-widgets/controls"
          }
        },
        "2a86704a32ae4d7d8d8a8f871ab550fa": {
          "model_module": "@jupyter-widgets/base",
          "model_name": "LayoutModel",
          "model_module_version": "1.2.0",
          "state": {
            "_view_name": "LayoutView",
            "grid_template_rows": null,
            "right": null,
            "justify_content": null,
            "_view_module": "@jupyter-widgets/base",
            "overflow": null,
            "_model_module_version": "1.2.0",
            "_view_count": null,
            "flex_flow": null,
            "width": null,
            "min_width": null,
            "border": null,
            "align_items": null,
            "bottom": null,
            "_model_module": "@jupyter-widgets/base",
            "top": null,
            "grid_column": null,
            "overflow_y": null,
            "overflow_x": null,
            "grid_auto_flow": null,
            "grid_area": null,
            "grid_template_columns": null,
            "flex": null,
            "_model_name": "LayoutModel",
            "justify_items": null,
            "grid_row": null,
            "max_height": null,
            "align_content": null,
            "visibility": null,
            "align_self": null,
            "height": null,
            "min_height": null,
            "padding": null,
            "grid_auto_rows": null,
            "grid_gap": null,
            "max_width": null,
            "order": null,
            "_view_module_version": "1.2.0",
            "grid_template_areas": null,
            "object_position": null,
            "object_fit": null,
            "grid_auto_columns": null,
            "margin": null,
            "display": null,
            "left": null
          }
        },
        "6f96e937447e42878a221acbab33cdc0": {
          "model_module": "@jupyter-widgets/controls",
          "model_name": "ProgressStyleModel",
          "model_module_version": "1.5.0",
          "state": {
            "_view_name": "StyleView",
            "_model_name": "ProgressStyleModel",
            "description_width": "",
            "_view_module": "@jupyter-widgets/base",
            "_model_module_version": "1.5.0",
            "_view_count": null,
            "_view_module_version": "1.2.0",
            "bar_color": null,
            "_model_module": "@jupyter-widgets/controls"
          }
        },
        "0703094a686a4d9bb90fd48c56a6daff": {
          "model_module": "@jupyter-widgets/base",
          "model_name": "LayoutModel",
          "model_module_version": "1.2.0",
          "state": {
            "_view_name": "LayoutView",
            "grid_template_rows": null,
            "right": null,
            "justify_content": null,
            "_view_module": "@jupyter-widgets/base",
            "overflow": null,
            "_model_module_version": "1.2.0",
            "_view_count": null,
            "flex_flow": null,
            "width": null,
            "min_width": null,
            "border": null,
            "align_items": null,
            "bottom": null,
            "_model_module": "@jupyter-widgets/base",
            "top": null,
            "grid_column": null,
            "overflow_y": null,
            "overflow_x": null,
            "grid_auto_flow": null,
            "grid_area": null,
            "grid_template_columns": null,
            "flex": null,
            "_model_name": "LayoutModel",
            "justify_items": null,
            "grid_row": null,
            "max_height": null,
            "align_content": null,
            "visibility": null,
            "align_self": null,
            "height": null,
            "min_height": null,
            "padding": null,
            "grid_auto_rows": null,
            "grid_gap": null,
            "max_width": null,
            "order": null,
            "_view_module_version": "1.2.0",
            "grid_template_areas": null,
            "object_position": null,
            "object_fit": null,
            "grid_auto_columns": null,
            "margin": null,
            "display": null,
            "left": null
          }
        },
        "88b546266c7c462bab97785ae22f001a": {
          "model_module": "@jupyter-widgets/controls",
          "model_name": "DescriptionStyleModel",
          "model_module_version": "1.5.0",
          "state": {
            "_view_name": "StyleView",
            "_model_name": "DescriptionStyleModel",
            "description_width": "",
            "_view_module": "@jupyter-widgets/base",
            "_model_module_version": "1.5.0",
            "_view_count": null,
            "_view_module_version": "1.2.0",
            "_model_module": "@jupyter-widgets/controls"
          }
        },
        "51101bb5012b4aa193fc4ab5774c5455": {
          "model_module": "@jupyter-widgets/base",
          "model_name": "LayoutModel",
          "model_module_version": "1.2.0",
          "state": {
            "_view_name": "LayoutView",
            "grid_template_rows": null,
            "right": null,
            "justify_content": null,
            "_view_module": "@jupyter-widgets/base",
            "overflow": null,
            "_model_module_version": "1.2.0",
            "_view_count": null,
            "flex_flow": null,
            "width": null,
            "min_width": null,
            "border": null,
            "align_items": null,
            "bottom": null,
            "_model_module": "@jupyter-widgets/base",
            "top": null,
            "grid_column": null,
            "overflow_y": null,
            "overflow_x": null,
            "grid_auto_flow": null,
            "grid_area": null,
            "grid_template_columns": null,
            "flex": null,
            "_model_name": "LayoutModel",
            "justify_items": null,
            "grid_row": null,
            "max_height": null,
            "align_content": null,
            "visibility": null,
            "align_self": null,
            "height": null,
            "min_height": null,
            "padding": null,
            "grid_auto_rows": null,
            "grid_gap": null,
            "max_width": null,
            "order": null,
            "_view_module_version": "1.2.0",
            "grid_template_areas": null,
            "object_position": null,
            "object_fit": null,
            "grid_auto_columns": null,
            "margin": null,
            "display": null,
            "left": null
          }
        }
      }
    }
  },
  "cells": [
    {
      "cell_type": "markdown",
      "metadata": {
        "id": "view-in-github",
        "colab_type": "text"
      },
      "source": [
        "<a href=\"https://colab.research.google.com/github/xerifg/Myipynb/blob/main/pytorch%2BMINIST.ipynb\" target=\"_parent\"><img src=\"https://colab.research.google.com/assets/colab-badge.svg\" alt=\"Open In Colab\"/></a>"
      ]
    },
    {
      "cell_type": "code",
      "metadata": {
        "id": "AhFVz9rFRB12"
      },
      "source": [
        "# 忽视后续运行代码时出现的烦人红色提示\n",
        "import warnings\n",
        "warnings.filterwarnings(\"ignore\")"
      ],
      "execution_count": null,
      "outputs": []
    },
    {
      "cell_type": "code",
      "metadata": {
        "id": "awpDKZ11SVrT"
      },
      "source": [
        "# 导入深度学习框架pytorch和计算机库numpy\n",
        "import torch\n",
        "import numpy as np\n",
        "\n",
        "import matplotlib.pyplot as plt\n",
        "%matplotlib inline\n",
        "\n",
        "plt.rcParams['font.sans-serif']=['SimHei']  #用来正确显示中文标签\n",
        "plt.rcParams['axes.unicode_minus']=False #用来正确显示负号"
      ],
      "execution_count": null,
      "outputs": []
    },
    {
      "cell_type": "markdown",
      "metadata": {
        "id": "XZclIJAjUCWS"
      },
      "source": [
        "# **导入MINIST数据集**"
      ]
    },
    {
      "cell_type": "code",
      "metadata": {
        "colab": {
          "base_uri": "https://localhost:8080/",
          "height": 417,
          "referenced_widgets": [
            "3a097e1ae93b40ab889c431f4ab467fc",
            "42b19cb2a1b24063b0a1165c2d6d4de9",
            "73edc360ed4f4fb78e5dd46c520f166c",
            "ffdbeccb1334485a8fbdad383675e09b",
            "842d953d4a8d44ba8481bbbf73bf1631",
            "2a426a69c49d4ed6a1c194f120e88370",
            "106b4a6a832b431cbc7dd92e90452dbb",
            "3cdbb19319554c169d64b872a8dfd145",
            "b3d9316fac8c41668f85447d9ac09802",
            "635bb86975f54f499f7cfb913cc489e8",
            "962c27cd92d04dbb9dfeaeb66d2bd125",
            "9afaf81b11fb4fc08187d1ea5eb75089",
            "cab275a04163408ab5681a1d4e0b0777",
            "b33bb89b0f5e44d7a769ceaa19f0c765",
            "77c0012a02344ce1ae0f92f3a1dc7f69",
            "447ea247d9b842749b85928b63c4715e",
            "8b311da7b52a46e4b2569becebd68428",
            "0146ca8c1d8b4ca7bc3ebbf4f0b96cda",
            "18f51502682b4e1f95e52061ef6baeb5",
            "e12a611699d54232b16f3e6afd94b176",
            "13ddea9d8af143a19ff20f2e6e2cf65f",
            "a79a42f48b7c4fc295c299e1d5e77e81",
            "14c032c2d0e042b1968c0e613b337beb",
            "7af7981c195a44988101317e3a576d4c",
            "a15c3f80789349b88eb4dd3c20d30920",
            "8b22f53c99ce4d93b70b3d34d988c2d5",
            "7b347cc09ff8415f8e785aed7eb9b04a",
            "c68e5ce274094ce29807e0d8e091fa3a",
            "cb0b1d63f1664dc5a1d847b981365fc2",
            "514adc62a25f49008779c8289c9b1452",
            "0113007ff91245a8b24655e265777dcf",
            "ff3f3c7dc5db43258bb91f6fd4dbed1f",
            "d3910a45632047e79d3a6ee36a9a03e6",
            "8af51f80926e48dc926afc8fef8ac28d",
            "78bf61b5c8a04342b58cddfa01070415",
            "853e88dbb0164f0487778f615cdaa00f",
            "672ddd58c61245cf865f162f10a64718",
            "033c6a1b97a749a5b69a3fa2168ca6c6",
            "63468a2d6d0b4b88b96423eeb9ce18c3",
            "2a86704a32ae4d7d8d8a8f871ab550fa",
            "6f96e937447e42878a221acbab33cdc0",
            "0703094a686a4d9bb90fd48c56a6daff",
            "88b546266c7c462bab97785ae22f001a",
            "51101bb5012b4aa193fc4ab5774c5455"
          ]
        },
        "id": "AYZV9W-AUI6Q",
        "outputId": "9cf1530e-1f1c-46b5-e2a9-17823cbb0e6b"
      },
      "source": [
        "from torchvision import datasets   #数据集\n",
        "import torchvision.transforms as transforms  #数据转换\n",
        "from torch.utils.data.sampler import SubsetRandomSampler  #数据采样\n",
        "\n",
        "# 载入数据时使用的处理器个数\n",
        "num_workers = 0\n",
        "# 每一批的数据个数\n",
        "batch_size = 20\n",
        "# 验证集所占比例\n",
        "valid_size = 0.2\n",
        "# 将数据转换为pytorch的张量tensor类型\n",
        "transform = transforms.ToTensor()\n",
        "# 选择数据集和测试集\n",
        "# root:数据集所在目录\n",
        "# train:是否载入训练集\n",
        "# download :如果目录中没有数据集，是否自动下载\n",
        "# transform:将将载入的数据按上面transform定义的方式进行转换\n",
        "train_data = datasets.MNIST(root='data',train=True,download=True,transform=transform)\n",
        "test_data = datasets.MNIST(root='data',train=False,download=True,transform=transform)\n",
        "\n",
        "# 将训练集每张图像对应的索引随机打乱，将索引分为训练集索引和验证集索引\n",
        "num_train = len(train_data)\n",
        "indices = list(range(num_train))\n",
        "np.random.shuffle(indices)\n",
        "split = int(np.floor(valid_size*num_train))\n",
        "train_idx, valid_idx = indices[split:],indices[:split]\n",
        "\n",
        "# 划分为新的训练集和验证集\n",
        "train_sampler = SubsetRandomSampler(train_idx)\n",
        "valid_sampler = SubsetRandomSampler(valid_idx)\n",
        "\n",
        "#创建训练集、验证集、测试集的数据Loader，python中的生成器，每一次调用返回一个batch大小的数据\n",
        "train_loader = torch.utils.data.DataLoader(train_data,batch_size=batch_size,sampler=train_sampler,num_workers=num_workers) #num_workers:使用全部的CPU\n",
        "valid_loader = torch.utils.data.DataLoader(train_data,batch_size=batch_size,sampler=valid_sampler,num_workers=num_workers)\n",
        "test_loader = torch.utils.data.DataLoader(test_data,batch_size=batch_size,num_workers=num_workers)"
      ],
      "execution_count": null,
      "outputs": [
        {
          "output_type": "stream",
          "name": "stdout",
          "text": [
            "Downloading http://yann.lecun.com/exdb/mnist/train-images-idx3-ubyte.gz\n",
            "Downloading http://yann.lecun.com/exdb/mnist/train-images-idx3-ubyte.gz to data/MNIST/raw/train-images-idx3-ubyte.gz\n"
          ]
        },
        {
          "output_type": "display_data",
          "data": {
            "application/vnd.jupyter.widget-view+json": {
              "model_id": "3a097e1ae93b40ab889c431f4ab467fc",
              "version_minor": 0,
              "version_major": 2
            },
            "text/plain": [
              "  0%|          | 0/9912422 [00:00<?, ?it/s]"
            ]
          },
          "metadata": {}
        },
        {
          "output_type": "stream",
          "name": "stdout",
          "text": [
            "Extracting data/MNIST/raw/train-images-idx3-ubyte.gz to data/MNIST/raw\n",
            "\n",
            "Downloading http://yann.lecun.com/exdb/mnist/train-labels-idx1-ubyte.gz\n",
            "Downloading http://yann.lecun.com/exdb/mnist/train-labels-idx1-ubyte.gz to data/MNIST/raw/train-labels-idx1-ubyte.gz\n"
          ]
        },
        {
          "output_type": "display_data",
          "data": {
            "application/vnd.jupyter.widget-view+json": {
              "model_id": "9afaf81b11fb4fc08187d1ea5eb75089",
              "version_minor": 0,
              "version_major": 2
            },
            "text/plain": [
              "  0%|          | 0/28881 [00:00<?, ?it/s]"
            ]
          },
          "metadata": {}
        },
        {
          "output_type": "stream",
          "name": "stdout",
          "text": [
            "Extracting data/MNIST/raw/train-labels-idx1-ubyte.gz to data/MNIST/raw\n",
            "\n",
            "Downloading http://yann.lecun.com/exdb/mnist/t10k-images-idx3-ubyte.gz\n",
            "Downloading http://yann.lecun.com/exdb/mnist/t10k-images-idx3-ubyte.gz to data/MNIST/raw/t10k-images-idx3-ubyte.gz\n"
          ]
        },
        {
          "output_type": "display_data",
          "data": {
            "application/vnd.jupyter.widget-view+json": {
              "model_id": "14c032c2d0e042b1968c0e613b337beb",
              "version_minor": 0,
              "version_major": 2
            },
            "text/plain": [
              "  0%|          | 0/1648877 [00:00<?, ?it/s]"
            ]
          },
          "metadata": {}
        },
        {
          "output_type": "stream",
          "name": "stdout",
          "text": [
            "Extracting data/MNIST/raw/t10k-images-idx3-ubyte.gz to data/MNIST/raw\n",
            "\n",
            "Downloading http://yann.lecun.com/exdb/mnist/t10k-labels-idx1-ubyte.gz\n",
            "Downloading http://yann.lecun.com/exdb/mnist/t10k-labels-idx1-ubyte.gz to data/MNIST/raw/t10k-labels-idx1-ubyte.gz\n"
          ]
        },
        {
          "output_type": "display_data",
          "data": {
            "application/vnd.jupyter.widget-view+json": {
              "model_id": "8af51f80926e48dc926afc8fef8ac28d",
              "version_minor": 0,
              "version_major": 2
            },
            "text/plain": [
              "  0%|          | 0/4542 [00:00<?, ?it/s]"
            ]
          },
          "metadata": {}
        },
        {
          "output_type": "stream",
          "name": "stdout",
          "text": [
            "Extracting data/MNIST/raw/t10k-labels-idx1-ubyte.gz to data/MNIST/raw\n",
            "\n"
          ]
        }
      ]
    },
    {
      "cell_type": "markdown",
      "metadata": {
        "id": "Z6GdBK_ngfkB"
      },
      "source": [
        "# **可视化数据集**"
      ]
    },
    {
      "cell_type": "code",
      "metadata": {
        "id": "-LG-86Gqgld8",
        "colab": {
          "base_uri": "https://localhost:8080/",
          "height": 285
        },
        "outputId": "0b091a55-1ce3-4686-8a18-10605defceef"
      },
      "source": [
        "# 可重复运行，展示不同的图片\n",
        "\n",
        "# 构建迭代器，获取训练集中的一批次数据\n",
        "dataiter = iter(train_loader)\n",
        "images,labels = dataiter.next()\n",
        "# 将数据集中的tensor张量转换为numpy的array数据结构\n",
        "images = images.numpy()\n",
        "\n",
        "# 可视化图片与标签\n",
        "fig = plt.figure(figsize=(25,4))\n",
        "for idx in np.arange(20):\n",
        "  ax = fig.add_subplot(2,20/2,idx+1,xticks=[],yticks=[])\n",
        "  ax.imshow(np.squeeze(images[idx]),cmap='gray')\n",
        "  ax.set_title(str(labels[idx].item()))  # .item()获取张量的数值"
      ],
      "execution_count": null,
      "outputs": [
        {
          "output_type": "stream",
          "name": "stderr",
          "text": [
            "findfont: Font family ['sans-serif'] not found. Falling back to DejaVu Sans.\n"
          ]
        },
        {
          "output_type": "display_data",
          "data": {
            "image/png": "[encoded data removed]",
            "text/plain": [
              "<Figure size 1800x288 with 20 Axes>"
            ]
          },
          "metadata": {}
        }
      ]
    },
    {
      "cell_type": "markdown",
      "metadata": {
        "id": "SjRL0ol7IBAk"
      },
      "source": [
        "# **展示图像的细节信息**"
      ]
    },
    {
      "cell_type": "code",
      "metadata": {
        "colab": {
          "base_uri": "https://localhost:8080/"
        },
        "id": "Js3ZcdB7IGRE",
        "outputId": "7810d887-40ef-4da8-a29a-724cf868434b"
      },
      "source": [
        "images[1].shape"
      ],
      "execution_count": null,
      "outputs": [
        {
          "output_type": "execute_result",
          "data": {
            "text/plain": [
              "(1, 28, 28)"
            ]
          },
          "metadata": {},
          "execution_count": 5
        }
      ]
    },
    {
      "cell_type": "code",
      "metadata": {
        "colab": {
          "base_uri": "https://localhost:8080/"
        },
        "id": "fY-eOn8iIMek",
        "outputId": "d3e39b28-65d0-43d4-ecff-bfb741878907"
      },
      "source": [
        "np.squeeze(images[1]).shape"
      ],
      "execution_count": null,
      "outputs": [
        {
          "output_type": "execute_result",
          "data": {
            "text/plain": [
              "(28, 28)"
            ]
          },
          "metadata": {},
          "execution_count": 6
        }
      ]
    },
    {
      "cell_type": "code",
      "metadata": {
        "colab": {
          "base_uri": "https://localhost:8080/",
          "height": 717
        },
        "id": "lirI4OavIUj6",
        "outputId": "88fc9e92-b85d-4953-d3e6-829d81e50463"
      },
      "source": [
        "# 去掉图像的批次维度，只保留索引为1的单张图像的长宽像素值\n",
        "img = np.squeeze(images[1])\n",
        "\n",
        "fig = plt.figure(figsize=(12,12))\n",
        "ax = fig.add_subplot(111)\n",
        "ax.imshow(img,cmap='gray')\n",
        "width,height = img.shape\n",
        "thresh = img.max()/2.5\n",
        "\n",
        "# 遍历每一行每一列每一个像素\n",
        "for x in range(width):\n",
        "  for y in range(height):\n",
        "    # 像素值保留两位小数，如果为0则显示为0\n",
        "    val = round(img[x][y],2) if img[x][y] !=0 else 0\n",
        "    ax.annotate(str(val),xy=(y,x),horizontalalignment='center',verticalalignment='center',color='white' if img[x][y]<thresh else 'black')  # 在像素上标注信息"
      ],
      "execution_count": null,
      "outputs": [
        {
          "output_type": "stream",
          "name": "stderr",
          "text": [
            "findfont: Font family ['sans-serif'] not found. Falling back to DejaVu Sans.\n"
          ]
        },
        {
          "output_type": "display_data",
          "data": {
            "image/png": "[encoded data removed]",
            "text/plain": [
              "<Figure size 864x864 with 1 Axes>"
            ]
          },
          "metadata": {
            "needs_background": "light"
          }
        }
      ]
    },
    {
      "cell_type": "markdown",
      "metadata": {
        "id": "Jv7LZFTSQ3BD"
      },
      "source": [
        "# **定义神经网络**"
      ]
    },
    {
      "cell_type": "markdown",
      "metadata": {
        "id": "Lb64cD5lZc9F"
      },
      "source": [
        "输入为784维的向量，输出为10个数字对应的概念；\n",
        "中间是两层隐含层，每个隐含层都有512个神经元；\n",
        "采用dropoout防止过拟合；\n",
        "全连接神经网络"
      ]
    },
    {
      "cell_type": "code",
      "metadata": {
        "colab": {
          "base_uri": "https://localhost:8080/"
        },
        "id": "Eel8IWz5Q7Fa",
        "outputId": "2ef4fef3-b13c-4b8b-c92c-0c7e222d1adc"
      },
      "source": [
        "import torch.nn as nn\n",
        "import torch.nn.functional as F\n",
        "\n",
        "class Net(nn.Module):\n",
        "  def __init__(self):\n",
        "    super(Net, self).__init__()\n",
        "    #定义第一个隐含层和第二个隐含层的神经元个数\n",
        "    hidden_1 = 512\n",
        "    hidden_2 = 512\n",
        "\n",
        "    # 输入层到隐含层，输入维度为784，输出维度为hidden_1\n",
        "    self.fc1 = nn.Linear(28*28,hidden_1)\n",
        "    # 第一层隐含层到第二层隐含层，输入维度为hidden_1，输出维度为hidden_2\n",
        "    self.fc2 = nn.Linear(hidden_1,hidden_2)\n",
        "    # 第二层隐含层到第三层隐含层，输入维度为hidden_2，输出维度为10\n",
        "    self.fc3 = nn.Linear(hidden_2,10)\n",
        "    # 定义Dropout率为0.2，防止过拟合\n",
        "    self.dropout = nn.Dropout(0.2)\n",
        "\n",
        "  def forward(self,x):\n",
        "    #将原始图像拉成784维的长向量\n",
        "    x = x.view(-1,28*28)\n",
        "    #经过第一层隐含层，激活函数为relu\n",
        "    x = F.relu(self.fc1(x))\n",
        "    # Dropout层\n",
        "    x = self.dropout(x)\n",
        "    #经过第二层隐含层，激活函数为relu\n",
        "    x = F.relu(self.fc2(x))\n",
        "    # Dropout层\n",
        "    x = self.dropout(x)\n",
        "    #输出层\n",
        "    x = self.fc3(x)\n",
        "    return x\n",
        "    \n",
        "#实例化模型，打印模型信息\n",
        "model = Net()\n",
        "print(model)"
      ],
      "execution_count": null,
      "outputs": [
        {
          "output_type": "stream",
          "name": "stdout",
          "text": [
            "Net(\n",
            "  (fc1): Linear(in_features=784, out_features=512, bias=True)\n",
            "  (fc2): Linear(in_features=512, out_features=512, bias=True)\n",
            "  (fc3): Linear(in_features=512, out_features=10, bias=True)\n",
            "  (dropout): Dropout(p=0.2, inplace=False)\n",
            ")\n"
          ]
        }
      ]
    },
    {
      "cell_type": "markdown",
      "metadata": {
        "id": "aCgV3Vsrejwj"
      },
      "source": [
        "# **定义损失函数和剃度下降优化器**"
      ]
    },
    {
      "cell_type": "markdown",
      "metadata": {
        "id": "MbmFxZ9revPc"
      },
      "source": [
        "使用交叉熵作为分类问题的损失函数，pytorch中的交叉熵包含了softmax和对数损失的计算"
      ]
    },
    {
      "cell_type": "code",
      "metadata": {
        "id": "O7Dk-c7nfNIL"
      },
      "source": [
        "# 损失函数为交叉熵损失函数\n",
        "criterion = nn.CrossEntropyLoss()\n",
        "# 定义优化器（随机梯度下降SGD优化器，学习率0.01）\n",
        "optimizer = torch.optim.SGD(model.parameters(),lr=0.01)"
      ],
      "execution_count": null,
      "outputs": []
    },
    {
      "cell_type": "markdown",
      "metadata": {
        "id": "s_f473kLf7ng"
      },
      "source": [
        "# **训练神经网络**"
      ]
    },
    {
      "cell_type": "markdown",
      "metadata": {
        "id": "v5hH_Db2gMtv"
      },
      "source": [
        "1. 清除所有的梯度 optimizer.zero_grad()\n",
        "2. 正向预测，求出模型对训练集数据的预测分类结果 output = model(data)\n",
        "3. 计算损失函数 loss = criterion(output,target)\n",
        "4. 反向传播，将损失函数对每个权重求偏导，求得每个权重对应的梯度loss.backward()\n",
        "5. 优化器执行单步的优化（权重更新）optimizer.step()\n",
        "6. 计算每一轮的平均训练误差和验证误差"
      ]
    },
    {
      "cell_type": "code",
      "metadata": {
        "colab": {
          "base_uri": "https://localhost:8080/"
        },
        "id": "a7n-2kkvf_v1",
        "outputId": "04dab8f5-a6bb-445f-e49f-1f81f77c06de"
      },
      "source": [
        "len(train_loader.dataset)"
      ],
      "execution_count": null,
      "outputs": [
        {
          "output_type": "execute_result",
          "data": {
            "text/plain": [
              "60000"
            ]
          },
          "metadata": {},
          "execution_count": 10
        }
      ]
    },
    {
      "cell_type": "code",
      "metadata": {
        "colab": {
          "base_uri": "https://localhost:8080/"
        },
        "id": "jA-en62nhlhA",
        "outputId": "031bb8fa-32e1-41d8-9008-a1f41526e259"
      },
      "source": [
        "# 训练轮次数，每一轮都完整遍历数据集中的所有图像\n",
        "n_epochs = 10\n",
        "# 初始化验证集的最小误差为正无穷\n",
        "valid_loss_min = np.Inf\n",
        "# 将训练过程中的训练损失和验证损失存储在列表中\n",
        "train_loss_list = []\n",
        "val_loss_list = []\n",
        "\n",
        "# 每一轮的训练:\n",
        "for epoch in range(n_epochs):\n",
        "  # 初始化训练损失和验证损失\n",
        "  train_loss = 0.0\n",
        "  valid_loss = 0.0\n",
        "\n",
        "  ## 训练阶段 ##\n",
        "  model.train() #将模式调整为训练模式\n",
        "\n",
        "  # 从train_loader中获取一批次的数据和标签\n",
        "  for data,target in train_loader:\n",
        "    # 将所有梯度归零\n",
        "    optimizer.zero_grad()\n",
        "    # 正向推断，求得预测结果\n",
        "    output = model(data)\n",
        "    # 将预测的结果与标签进行比较，求得交叉熵损失函数值\n",
        "    loss = criterion(output,target)\n",
        "    # 反向传播，将损失函数对每个权重求偏导，求得每个权重对应的梯度\n",
        "    loss.backward()\n",
        "    # 优化器执行单步的优化（权重更新）\n",
        "    optimizer.step()\n",
        "    # 将本批次所有的样本损失函数的值求和，作为训练损失\n",
        "    train_loss += loss.item()*data.size(0)\n",
        "\n",
        "    ## 验证阶段  ##\n",
        "    model.eval() #将模型调整为验证阶段，关闭Dropout和BN层\n",
        "    # 从验证集valid_loader中获取一个批次的数据和标签\n",
        "  for data,target in valid_loader:\n",
        "    # 正向预测，预测每张图片的分类\n",
        "    output = model(data)\n",
        "    # 将预测的结果与标签进行比较，求得交叉熵损失函数值\n",
        "    loss = criterion(output,target)\n",
        "    # 将本批次所有的样本损失函数的值求和，作为验证损失\n",
        "    valid_loss += loss.item()*data.size(0)\n",
        "\n",
        "  ## 结束了本论的训练和验证，打印训练和验证指标\n",
        "  # 计算平均训练损失和平均验证损失，存储在列表中\n",
        "  train_loss = train_loss/len(train_loader.dataset)\n",
        "  valid_loss = valid_loss/len(valid_loader.dataset)\n",
        "  train_loss_list.append(train_loss)\n",
        "  val_loss_list.append(valid_loss)\n",
        "\n",
        "  print('第{}轮 \\t训练损失：{:.6f}\\t验证损失：{:.6f}'.format(epoch+1,train_loss,valid_loss))\n",
        "\n",
        "  #如果验证误差比上一次的小，及时保存模型到本地的model.pt文件中\n",
        "  if valid_loss <= valid_loss_min:\n",
        "    print('验证损失相比之前降低了（{:.6f}-->{:.6f}）.保存模型'.format(valid_loss_min,valid_loss))\n",
        "    torch.save(model.state_dict(),'model.pt')\n",
        "    valid_loss_min = valid_loss\n",
        "\n",
        "\n"
      ],
      "execution_count": null,
      "outputs": [
        {
          "output_type": "stream",
          "name": "stdout",
          "text": [
            "第1轮 \t训练损失：0.003511\t验证损失：0.015600\n",
            "验证损失相比之前降低了（inf-->0.015600）.保存模型\n",
            "第2轮 \t训练损失：0.003333\t验证损失：0.015514\n",
            "验证损失相比之前降低了（0.015600-->0.015514）.保存模型\n",
            "第3轮 \t训练损失：0.003142\t验证损失：0.015659\n",
            "第4轮 \t训练损失：0.003011\t验证损失：0.015548\n",
            "第5轮 \t训练损失：0.002901\t验证损失：0.016039\n",
            "第6轮 \t训练损失：0.002750\t验证损失：0.015744\n",
            "第7轮 \t训练损失：0.002608\t验证损失：0.015948\n",
            "第8轮 \t训练损失：0.002575\t验证损失：0.015899\n",
            "第9轮 \t训练损失：0.002412\t验证损失：0.015972\n",
            "第10轮 \t训练损失：0.002307\t验证损失：0.015949\n"
          ]
        }
      ]
    },
    {
      "cell_type": "markdown",
      "metadata": {
        "id": "oNqxilsgxOoJ"
      },
      "source": [
        "# **可视化训练误差和验证误差**"
      ]
    },
    {
      "cell_type": "code",
      "metadata": {
        "colab": {
          "base_uri": "https://localhost:8080/",
          "height": 281
        },
        "id": "CySa7oCjxUmM",
        "outputId": "398e5649-0479-40ac-c83e-0f577c0fb471"
      },
      "source": [
        "plt.plot(train_loss_list,label='train error')\n",
        "plt.plot(val_loss_list,label='value error')\n",
        "plt.legend()\n",
        "plt.title('train and value error')\n",
        "plt.show()"
      ],
      "execution_count": null,
      "outputs": [
        {
          "output_type": "display_data",
          "data": {
            "image/png": "[encoded data removed]",
            "text/plain": [
              "<Figure size 432x288 with 1 Axes>"
            ]
          },
          "metadata": {
            "needs_background": "light"
          }
        }
      ]
    },
    {
      "cell_type": "markdown",
      "metadata": {
        "id": "Whz4kevPyaB2"
      },
      "source": [
        "# **载入验证集损失最低的模型**"
      ]
    },
    {
      "cell_type": "code",
      "metadata": {
        "colab": {
          "base_uri": "https://localhost:8080/"
        },
        "id": "QJ1UM9JkyfEW",
        "outputId": "649c86f4-db50-4d5f-cf4b-33fe845a2545"
      },
      "source": [
        "model.load_state_dict(torch.load('model.pt'))"
      ],
      "execution_count": null,
      "outputs": [
        {
          "output_type": "execute_result",
          "data": {
            "text/plain": [
              "<All keys matched successfully>"
            ]
          },
          "metadata": {},
          "execution_count": 23
        }
      ]
    },
    {
      "cell_type": "markdown",
      "metadata": {
        "id": "pMTHnLPrysdv"
      },
      "source": [
        "# **在测试集上评估模型分类效果**"
      ]
    },
    {
      "cell_type": "markdown",
      "metadata": {
        "id": "qmxZ6K_ry4Cm"
      },
      "source": [
        "测试集是之前没有见过的，相当于高考题，可以用于检验模型的泛化能力;\n",
        "分析每种数字的识别准确率"
      ]
    },
    {
      "cell_type": "code",
      "metadata": {
        "id": "QOsDtBsOy1OI"
      },
      "source": [
        " # 初始化测试误差\n",
        " test_loss = 0.0\n",
        "class_correct = list(0. for i in range(10))\n",
        "class_total = list(0. for i in range(10))"
      ],
      "execution_count": null,
      "outputs": []
    },
    {
      "cell_type": "code",
      "metadata": {
        "colab": {
          "base_uri": "https://localhost:8080/"
        },
        "id": "BwJwE1aVSAkE",
        "outputId": "06cc2271-50f0-4be6-9925-b10d81e5274f"
      },
      "source": [
        "# 存储每种数字正确识别的个数\n",
        "class_correct"
      ],
      "execution_count": null,
      "outputs": [
        {
          "output_type": "execute_result",
          "data": {
            "text/plain": [
              "[0.0, 0.0, 0.0, 0.0, 0.0, 0.0, 0.0, 0.0, 0.0, 0.0]"
            ]
          },
          "metadata": {},
          "execution_count": 28
        }
      ]
    },
    {
      "cell_type": "code",
      "metadata": {
        "colab": {
          "base_uri": "https://localhost:8080/"
        },
        "id": "eK2d5Fo4SR5Z",
        "outputId": "fdd8bfbb-eb0d-4838-e10c-a1c28cab643d"
      },
      "source": [
        "# 存储每种数字总的样本数\n",
        "class_total"
      ],
      "execution_count": null,
      "outputs": [
        {
          "output_type": "execute_result",
          "data": {
            "text/plain": [
              "[0.0, 0.0, 0.0, 0.0, 0.0, 0.0, 0.0, 0.0, 0.0, 0.0]"
            ]
          },
          "metadata": {},
          "execution_count": 29
        }
      ]
    },
    {
      "cell_type": "code",
      "metadata": {
        "colab": {
          "base_uri": "https://localhost:8080/"
        },
        "id": "YyW7Wx63ScCz",
        "outputId": "feffe5f8-ef0b-4379-b5c4-867047be6bd1"
      },
      "source": [
        "dataiter = iter(test_loader)\n",
        "data,target = dataiter.next()"
      ],
      "execution_count": null,
      "outputs": [
        {
          "output_type": "execute_result",
          "data": {
            "text/plain": [
              "torch.Size([20])"
            ]
          },
          "metadata": {},
          "execution_count": 31
        }
      ]
    },
    {
      "cell_type": "code",
      "metadata": {
        "colab": {
          "base_uri": "https://localhost:8080/"
        },
        "id": "cYfYdmIwTEmu",
        "outputId": "daa5b064-5021-43de-8158-710b4bfd8edb"
      },
      "source": [
        "data.shape"
      ],
      "execution_count": null,
      "outputs": [
        {
          "output_type": "execute_result",
          "data": {
            "text/plain": [
              "torch.Size([20, 1, 28, 28])"
            ]
          },
          "metadata": {},
          "execution_count": 32
        }
      ]
    },
    {
      "cell_type": "code",
      "metadata": {
        "colab": {
          "base_uri": "https://localhost:8080/"
        },
        "id": "4ios2tnOTGTD",
        "outputId": "426ff2c4-885c-44ed-94c1-d9821f102124"
      },
      "source": [
        "target.shape"
      ],
      "execution_count": null,
      "outputs": [
        {
          "output_type": "execute_result",
          "data": {
            "text/plain": [
              "torch.Size([20])"
            ]
          },
          "metadata": {},
          "execution_count": 33
        }
      ]
    },
    {
      "cell_type": "code",
      "metadata": {
        "id": "InfZ7icgTbsb"
      },
      "source": [
        "# 使用网络模型预测上面20个数字的数值\n",
        "model.eval()\n",
        "output = model(data)"
      ],
      "execution_count": null,
      "outputs": []
    },
    {
      "cell_type": "code",
      "metadata": {
        "colab": {
          "base_uri": "https://localhost:8080/"
        },
        "id": "ZMkUgcQmT9X0",
        "outputId": "da71c6e5-c790-4344-eaaa-b1b5642eaddf"
      },
      "source": [
        "output.shape"
      ],
      "execution_count": null,
      "outputs": [
        {
          "output_type": "execute_result",
          "data": {
            "text/plain": [
              "torch.Size([20, 10])"
            ]
          },
          "metadata": {},
          "execution_count": 36
        }
      ]
    },
    {
      "cell_type": "code",
      "metadata": {
        "colab": {
          "base_uri": "https://localhost:8080/"
        },
        "id": "BG4spW8wUEJW",
        "outputId": "694597e4-f98a-4585-ef9d-f02ddbc9fc90"
      },
      "source": [
        "output[0]"
      ],
      "execution_count": null,
      "outputs": [
        {
          "output_type": "execute_result",
          "data": {
            "text/plain": [
              "tensor([ -3.5385,  -2.6597,   4.0743,   6.2439,  -5.4616,  -2.6585, -19.3619,\n",
              "         18.8752,  -0.6848,   5.7572], grad_fn=<SelectBackward>)"
            ]
          },
          "metadata": {},
          "execution_count": 37
        }
      ]
    },
    {
      "cell_type": "code",
      "metadata": {
        "colab": {
          "base_uri": "https://localhost:8080/"
        },
        "id": "4l0TW0cOUrLR",
        "outputId": "acd28297-0d62-4e80-ac19-a5b33c66b5c1"
      },
      "source": [
        "# 计算交叉熵损失\n",
        "loss = criterion(output,target)\n",
        "loss"
      ],
      "execution_count": null,
      "outputs": [
        {
          "output_type": "execute_result",
          "data": {
            "text/plain": [
              "tensor(0.0243, grad_fn=<NllLossBackward>)"
            ]
          },
          "metadata": {},
          "execution_count": 48
        }
      ]
    },
    {
      "cell_type": "code",
      "metadata": {
        "colab": {
          "base_uri": "https://localhost:8080/"
        },
        "id": "We4ep6M5U8Yq",
        "outputId": "8154073b-4681-46e1-a457-022913cb355a"
      },
      "source": [
        "# 将本批次所有的损失函数数值求和，作为测试损失\n",
        "test_loss = 0\n",
        "test_loss += loss.item()*data.size(0)\n",
        "test_loss"
      ],
      "execution_count": null,
      "outputs": [
        {
          "output_type": "execute_result",
          "data": {
            "text/plain": [
              "0.48576783388853073"
            ]
          },
          "metadata": {},
          "execution_count": 52
        }
      ]
    },
    {
      "cell_type": "code",
      "metadata": {
        "colab": {
          "base_uri": "https://localhost:8080/"
        },
        "id": "gV3xl6K3XTFJ",
        "outputId": "475dbe40-912f-4839-b8ef-48751ad95309"
      },
      "source": [
        "# 将输出最大值对应的神经元作为预测分类\n",
        "probability,pred = torch.max(output,1)\n",
        "pred"
      ],
      "execution_count": null,
      "outputs": [
        {
          "output_type": "execute_result",
          "data": {
            "text/plain": [
              "tensor([7, 2, 1, 0, 4, 1, 4, 9, 5, 9, 0, 6, 9, 0, 1, 5, 9, 7, 3, 4])"
            ]
          },
          "metadata": {},
          "execution_count": 56
        }
      ]
    },
    {
      "cell_type": "code",
      "metadata": {
        "colab": {
          "base_uri": "https://localhost:8080/"
        },
        "id": "wRP2aMzQYd57",
        "outputId": "91469991-7590-4361-8ef0-d03dc871830e"
      },
      "source": [
        "target"
      ],
      "execution_count": null,
      "outputs": [
        {
          "output_type": "execute_result",
          "data": {
            "text/plain": [
              "tensor([7, 2, 1, 0, 4, 1, 4, 9, 5, 9, 0, 6, 9, 0, 1, 5, 9, 7, 3, 4])"
            ]
          },
          "metadata": {},
          "execution_count": 57
        }
      ]
    },
    {
      "cell_type": "code",
      "metadata": {
        "colab": {
          "base_uri": "https://localhost:8080/"
        },
        "id": "OD0LYQvMYohD",
        "outputId": "fbc3441e-6a89-4db9-c4be-dc0c14d1885f"
      },
      "source": [
        "# 比较预测的分类和真实标签，相同则为1\n",
        "correct = np.squeeze(pred.eq(target.data.view_as(pred)))\n",
        "correct"
      ],
      "execution_count": null,
      "outputs": [
        {
          "output_type": "execute_result",
          "data": {
            "text/plain": [
              "tensor([True, True, True, True, True, True, True, True, True, True, True, True,\n",
              "        True, True, True, True, True, True, True, True])"
            ]
          },
          "metadata": {},
          "execution_count": 58
        }
      ]
    },
    {
      "cell_type": "code",
      "metadata": {
        "id": "0EVcL6r-aObJ"
      },
      "source": [
        "# 遍历本batch中的所有数字，将correct加到每个数字对应的正确识别个数上\n",
        "for i in range(batch_size):\n",
        "  label = target.data[i]\n",
        "  class_correct[label] += correct[i].item()\n",
        "  class_total[label] += 1"
      ],
      "execution_count": null,
      "outputs": []
    },
    {
      "cell_type": "code",
      "metadata": {
        "colab": {
          "base_uri": "https://localhost:8080/"
        },
        "id": "0GXIjJ3Acimf",
        "outputId": "cd7aebd9-7f4a-41c8-e449-6f164c20cb16"
      },
      "source": [
        "# 每一种数字有多少被分类正确了\n",
        "class_correct"
      ],
      "execution_count": null,
      "outputs": [
        {
          "output_type": "execute_result",
          "data": {
            "text/plain": [
              "[3.0, 3.0, 1.0, 1.0, 3.0, 2.0, 1.0, 2.0, 0.0, 4.0]"
            ]
          },
          "metadata": {},
          "execution_count": 60
        }
      ]
    },
    {
      "cell_type": "code",
      "metadata": {
        "colab": {
          "base_uri": "https://localhost:8080/"
        },
        "id": "y_coeFPQdAh4",
        "outputId": "1d4280de-7c58-40e4-8baa-cba4f2de0c41"
      },
      "source": [
        "# 每一种数字总共有多少样本\n",
        "class_total"
      ],
      "execution_count": null,
      "outputs": [
        {
          "output_type": "execute_result",
          "data": {
            "text/plain": [
              "[3.0, 3.0, 1.0, 1.0, 3.0, 2.0, 1.0, 2.0, 0.0, 4.0]"
            ]
          },
          "metadata": {},
          "execution_count": 61
        }
      ]
    },
    {
      "cell_type": "markdown",
      "metadata": {
        "id": "iE7d9Icnfb4R"
      },
      "source": [
        "# **对整个测试集进行评估**"
      ]
    },
    {
      "cell_type": "code",
      "metadata": {
        "colab": {
          "base_uri": "https://localhost:8080/"
        },
        "id": "ijqPWTERfa2L",
        "outputId": "8f6a2df5-e175-43db-c719-dd0541e2a1b1"
      },
      "source": [
        "model.eval() #将模型调整为验证阶段，关闭Dropout和BN层\n",
        "# 从验证集valid_loader中获取一个批次的数据和标签\n",
        "for data,target in test_loader:\n",
        "  # 正向预测，预测每张图片的分类\n",
        "  output = model(data)\n",
        "  # 将预测的结果与标签进行比较，求得交叉熵损失函数值\n",
        "  loss = criterion(output,target)\n",
        "  # 将本批次所有的样本损失函数的值求和，作为验证损失\n",
        "  test_loss += loss.item()*data.size(0)\n",
        "  # 将输出最大值对应的神经元作为预测分类\n",
        "  probability,pred = torch.max(output,1)\n",
        "  # 比较预测的分类和真实标签，相同则为1\n",
        "  correct = np.squeeze(pred.eq(target.data.view_as(pred)))\n",
        "  for i in range(batch_size):\n",
        "    label = target.data[i]\n",
        "    class_correct[label] += correct[i].item()\n",
        "    class_total[label] += 1\n",
        "\n",
        "#计算平均测试误差\n",
        "test_loss = test_loss/len(test_loader.dataset)\n",
        "print('the error on the test data is:{:.6f}'.format(test_loss))"
      ],
      "execution_count": null,
      "outputs": [
        {
          "output_type": "stream",
          "name": "stdout",
          "text": [
            "the error on the test data is:0.070528\n"
          ]
        }
      ]
    },
    {
      "cell_type": "code",
      "metadata": {
        "colab": {
          "base_uri": "https://localhost:8080/"
        },
        "id": "Zoakt8GBh3tC",
        "outputId": "674abf40-4a73-4cba-ce19-d368ff64a694"
      },
      "source": [
        "class_correct"
      ],
      "execution_count": null,
      "outputs": [
        {
          "output_type": "execute_result",
          "data": {
            "text/plain": [
              "[972.0, 1130.0, 1014.0, 991.0, 965.0, 871.0, 945.0, 1005.0, 948.0, 988.0]"
            ]
          },
          "metadata": {},
          "execution_count": 68
        }
      ]
    },
    {
      "cell_type": "code",
      "metadata": {
        "colab": {
          "base_uri": "https://localhost:8080/"
        },
        "id": "ppJ-zI30h8eZ",
        "outputId": "50d3e4a3-baae-4257-c6c0-1be3b2a71b95"
      },
      "source": [
        "class_total"
      ],
      "execution_count": null,
      "outputs": [
        {
          "output_type": "execute_result",
          "data": {
            "text/plain": [
              "[983.0, 1138.0, 1033.0, 1011.0, 985.0, 894.0, 959.0, 1030.0, 974.0, 1013.0]"
            ]
          },
          "metadata": {},
          "execution_count": 69
        }
      ]
    },
    {
      "cell_type": "code",
      "metadata": {
        "colab": {
          "base_uri": "https://localhost:8080/"
        },
        "id": "2RcUUGItiPwJ",
        "outputId": "d2b95462-df0d-4e28-eb7e-b9c699437102"
      },
      "source": [
        "for i in range(10):\n",
        "  print('number {} correct rate on the test data {:.5f}% ({:.0f}/{:.0f})'.format(i,class_correct[i]*100/class_total[i],class_correct[i],class_total[i]))"
      ],
      "execution_count": null,
      "outputs": [
        {
          "output_type": "stream",
          "name": "stdout",
          "text": [
            "number 0 correct rate on the test data 98.88098% (972/983)\n",
            "number 1 correct rate on the test data 99.29701% (1130/1138)\n",
            "number 2 correct rate on the test data 98.16070% (1014/1033)\n",
            "number 3 correct rate on the test data 98.02176% (991/1011)\n",
            "number 4 correct rate on the test data 97.96954% (965/985)\n",
            "number 5 correct rate on the test data 97.42729% (871/894)\n",
            "number 6 correct rate on the test data 98.54015% (945/959)\n",
            "number 7 correct rate on the test data 97.57282% (1005/1030)\n",
            "number 8 correct rate on the test data 97.33060% (948/974)\n",
            "number 9 correct rate on the test data 97.53208% (988/1013)\n"
          ]
        }
      ]
    },
    {
      "cell_type": "markdown",
      "metadata": {
        "id": "5VsUXhg6ke9J"
      },
      "source": [
        "# **可视化测试集中的一些图片和预测结果**"
      ]
    },
    {
      "cell_type": "markdown",
      "metadata": {
        "id": "42ajOSi9kmQz"
      },
      "source": [
        "括号里为真实标签，绿色为识别正确，红色为识别错误"
      ]
    },
    {
      "cell_type": "code",
      "metadata": {
        "colab": {
          "base_uri": "https://localhost:8080/",
          "height": 268
        },
        "id": "nJRugOGxkxAY",
        "outputId": "0fd275bc-445b-4935-f11a-9e81ee84f72a"
      },
      "source": [
        "# 获取数据集中的一个batch大小的数据和标签\n",
        "dataiter = iter(test_loader)\n",
        "images,labels = dataiter.next()\n",
        "\n",
        "# 正向推断\n",
        "output = model(images)\n",
        "# 将输出最大值对应的神经元作为预测分类\n",
        "probability,preds = torch.max(output,1) \n",
        "#将数据从torch张量转换为numpy的array\n",
        "images = images.numpy()\n",
        "\n",
        "#可视化本batch中的图片，预测种类，真实种类\n",
        "fig = plt.figure(figsize=(25,4))\n",
        "for idx in np.arange(20):\n",
        "  ax = fig.add_subplot(2,20/2,idx+1,xticks=[],yticks=[])\n",
        "  ax.imshow(np.squeeze(images[idx]),cmap='gray')\n",
        "  ax.set_title(\"{} ({})\".format(str(preds[idx].item()),str(labels[idx].item())),color=(\"green\" if preds[idx]==labels[idx] else \"red\"))"
      ],
      "execution_count": null,
      "outputs": [
        {
          "output_type": "display_data",
          "data": {
            "image/png": "[encoded data removed]",
            "text/plain": [
              "<Figure size 1800x288 with 20 Axes>"
            ]
          },
          "metadata": {}
        }
      ]
    }
  ]
}